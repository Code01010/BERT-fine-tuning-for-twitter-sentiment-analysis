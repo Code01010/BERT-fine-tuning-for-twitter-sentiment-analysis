{
 "cells": [
  {
   "cell_type": "code",
   "execution_count": 1,
   "metadata": {
    "ExecuteTime": {
     "end_time": "2019-04-06T09:07:32.166553Z",
     "start_time": "2019-04-06T09:07:31.866361Z"
    }
   },
   "outputs": [],
   "source": [
    "import numpy as np\n",
    "import pandas as pd"
   ]
  },
  {
   "cell_type": "code",
   "execution_count": 2,
   "metadata": {
    "ExecuteTime": {
     "end_time": "2019-04-06T08:48:50.172991Z",
     "start_time": "2019-04-06T08:48:50.167008Z"
    }
   },
   "outputs": [
    {
     "name": "stdout",
     "output_type": "stream",
     "text": [
      "200\n"
     ]
    }
   ],
   "source": [
    "a=1000\n",
    "print(int(a*0.2))"
   ]
  },
  {
   "cell_type": "code",
   "execution_count": 3,
   "metadata": {
    "ExecuteTime": {
     "end_time": "2019-04-06T08:48:52.990082Z",
     "start_time": "2019-04-06T08:48:52.974128Z"
    }
   },
   "outputs": [
    {
     "data": {
      "text/html": [
       "<div>\n",
       "<style scoped>\n",
       "    .dataframe tbody tr th:only-of-type {\n",
       "        vertical-align: middle;\n",
       "    }\n",
       "\n",
       "    .dataframe tbody tr th {\n",
       "        vertical-align: top;\n",
       "    }\n",
       "\n",
       "    .dataframe thead th {\n",
       "        text-align: right;\n",
       "    }\n",
       "</style>\n",
       "<table border=\"1\" class=\"dataframe\">\n",
       "  <thead>\n",
       "    <tr style=\"text-align: right;\">\n",
       "      <th></th>\n",
       "      <th>name</th>\n",
       "      <th>birth</th>\n",
       "    </tr>\n",
       "  </thead>\n",
       "  <tbody>\n",
       "    <tr>\n",
       "      <th>0</th>\n",
       "      <td>sd</td>\n",
       "      <td>968</td>\n",
       "    </tr>\n",
       "    <tr>\n",
       "      <th>1</th>\n",
       "      <td>fa</td>\n",
       "      <td>155</td>\n",
       "    </tr>\n",
       "    <tr>\n",
       "      <th>2</th>\n",
       "      <td>fa</td>\n",
       "      <td>77</td>\n",
       "    </tr>\n",
       "    <tr>\n",
       "      <th>3</th>\n",
       "      <td>fg</td>\n",
       "      <td>578</td>\n",
       "    </tr>\n",
       "    <tr>\n",
       "      <th>4</th>\n",
       "      <td>ga</td>\n",
       "      <td>973</td>\n",
       "    </tr>\n",
       "  </tbody>\n",
       "</table>\n",
       "</div>"
      ],
      "text/plain": [
       "  name  birth\n",
       "0   sd    968\n",
       "1   fa    155\n",
       "2   fa     77\n",
       "3   fg    578\n",
       "4   ga    973"
      ]
     },
     "execution_count": 3,
     "metadata": {},
     "output_type": "execute_result"
    }
   ],
   "source": [
    "names = ['sd','fa','fa','fg','ga']\n",
    "births = [968,155,77,578,973]\n",
    "DataSet = list(zip(names,births))\n",
    "DataSet\n",
    "df = pd.DataFrame(data = DataSet ,columns=['name','birth'])\n",
    "df"
   ]
  },
  {
   "cell_type": "code",
   "execution_count": 5,
   "metadata": {
    "ExecuteTime": {
     "end_time": "2019-04-06T08:49:07.987579Z",
     "start_time": "2019-04-06T08:49:07.975605Z"
    }
   },
   "outputs": [],
   "source": [
    "df.to_csv('./test.csv', index=False, header=False)"
   ]
  },
  {
   "cell_type": "code",
   "execution_count": 2,
   "metadata": {
    "ExecuteTime": {
     "end_time": "2019-04-06T09:07:36.093137Z",
     "start_time": "2019-04-06T09:07:36.090185Z"
    }
   },
   "outputs": [],
   "source": [
    "def to_csv(data,label,filename):\n",
    "    DataSet = list(zip(data,label))\n",
    "    df = pd.DataFrame(data = DataSet )\n",
    "    df.to_csv(filename,index=False, header=False,sep='$')"
   ]
  },
  {
   "cell_type": "code",
   "execution_count": 34,
   "metadata": {
    "ExecuteTime": {
     "end_time": "2019-04-03T14:44:30.078575Z",
     "start_time": "2019-04-03T14:44:30.071440Z"
    }
   },
   "outputs": [],
   "source": [
    "to_csv(names,births,'./testa.csv',sep=\"+++$+++\")"
   ]
  },
  {
   "cell_type": "code",
   "execution_count": 5,
   "metadata": {
    "ExecuteTime": {
     "end_time": "2019-04-06T09:07:51.077147Z",
     "start_time": "2019-04-06T09:07:51.070133Z"
    }
   },
   "outputs": [],
   "source": [
    "def split_train_dev(filename):\n",
    "    data=open(filename,'r',encoding='utf-8').readlines()\n",
    "    x_text=[]\n",
    "    labels=[]\n",
    "    for t in data:\n",
    "        sp=t.split('+++$+++')\n",
    "        labels.append(int(sp[0].strip()))\n",
    "        x_text.append(sp[1].strip())\n",
    "    size=len(labels)\n",
    "    dev_size=int(size*0.1)\n",
    "    dev_data=x_text[:dev_size]\n",
    "    dev_label=labels[:dev_size]\n",
    "    \n",
    "    train_data=x_text[dev_size:]\n",
    "    train_label=labels[dev_size:]\n",
    "    \n",
    "    to_csv(train_data,train_label,'./data/train.csv')\n",
    "    to_csv(dev_data,dev_label,'./data/dev.csv')\n",
    "\n",
    "#     to_csv(train_data,train_label,'./data/train.csv')\n",
    "#     to_csv(dev_data,dev_label,'./data/dev_csv')"
   ]
  },
  {
   "cell_type": "code",
   "execution_count": 6,
   "metadata": {
    "ExecuteTime": {
     "end_time": "2019-04-06T09:07:53.377693Z",
     "start_time": "2019-04-06T09:07:52.662618Z"
    }
   },
   "outputs": [],
   "source": [
    "split_train_dev('./data/training_label.csv')"
   ]
  },
  {
   "cell_type": "code",
   "execution_count": null,
   "metadata": {},
   "outputs": [],
   "source": []
  }
 ],
 "metadata": {
  "kernelspec": {
   "display_name": "Python 3",
   "language": "python",
   "name": "python3"
  },
  "language_info": {
   "codemirror_mode": {
    "name": "ipython",
    "version": 3
   },
   "file_extension": ".py",
   "mimetype": "text/x-python",
   "name": "python",
   "nbconvert_exporter": "python",
   "pygments_lexer": "ipython3",
   "version": "3.6.8"
  }
 },
 "nbformat": 4,
 "nbformat_minor": 2
}
